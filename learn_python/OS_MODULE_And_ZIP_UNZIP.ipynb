{
 "cells": [
  {
   "cell_type": "code",
   "execution_count": 1,
   "metadata": {},
   "outputs": [],
   "source": [
    "f = open('practice.txt', 'w+')\n",
    "f.write('Entered practice file and made changes')\n",
    "f.close()"
   ]
  },
  {
   "cell_type": "code",
   "execution_count": 4,
   "metadata": {},
   "outputs": [
    {
     "data": {
      "text/plain": [
       "'/Users/richardandrews/richard_folder/Richard_Data/Code/Sandbox/python/python_lessons/learn_python'"
      ]
     },
     "execution_count": 4,
     "metadata": {},
     "output_type": "execute_result"
    }
   ],
   "source": [
    "import os\n",
    "os.getcwd()"
   ]
  },
  {
   "cell_type": "code",
   "execution_count": 5,
   "metadata": {},
   "outputs": [
    {
     "data": {
      "text/plain": [
       "['.localized', 'richardandrews', 'Shared', 'Guest']"
      ]
     },
     "execution_count": 5,
     "metadata": {},
     "output_type": "execute_result"
    }
   ],
   "source": []
  },
  {
   "cell_type": "code",
   "execution_count": 10,
   "metadata": {},
   "outputs": [
    {
     "data": {
      "text/plain": [
       "['cicada-image.jpg',\n",
       " 'scraping',\n",
       " 'OBJECT_ORIENTED_PROGRAMING.ipynb',\n",
       " 'web_scraping_with_request_and_beautiful_soup.ipynb',\n",
       " 'DataTypes.ipynb',\n",
       " 'scope_and_nested_statements.ipynb',\n",
       " '.DS_Store',\n",
       " 'lambda_expressions_map_filter.ipynb',\n",
       " 'Working with files.ipynb',\n",
       " 'test',\n",
       " 'index.py',\n",
       " 'control_flow_and_interators.ipynb',\n",
       " 'unzip_me_for_instructions',\n",
       " 'practice.txt',\n",
       " 'modules_packages.ipynb',\n",
       " 'Lists.ipynb',\n",
       " 'Dictionary.ipynb',\n",
       " 'Tuples.ipynb',\n",
       " 'list_comprehension.ipynb',\n",
       " 'functions.ipynb',\n",
       " 'Sets and booleans.ipynb',\n",
       " 'error_handling_debug_date_time.ipynb',\n",
       " 'Regular_Expressions.ipynb',\n",
       " '.ipynb_checkpoints',\n",
       " 'web_scraping_wikipedia.ipynb',\n",
       " 'learn_modules_packages',\n",
       " 'OS_MODULE.ipynb']"
      ]
     },
     "execution_count": 10,
     "metadata": {},
     "output_type": "execute_result"
    }
   ],
   "source": [
    "os.listdir()"
   ]
  },
  {
   "cell_type": "code",
   "execution_count": 16,
   "metadata": {},
   "outputs": [
    {
     "data": {
      "text/plain": [
       "'/Users/richardandrews/richard_folder/test'"
      ]
     },
     "execution_count": 16,
     "metadata": {},
     "output_type": "execute_result"
    }
   ],
   "source": [
    "import shutil\n",
    "shutil.move('test', '/Users/richardandrews/richard_folder/')"
   ]
  },
  {
   "cell_type": "code",
   "execution_count": 12,
   "metadata": {},
   "outputs": [
    {
     "data": {
      "text/plain": [
       "['.DS_Store', 'test', 'Richard_Data']"
      ]
     },
     "execution_count": 12,
     "metadata": {},
     "output_type": "execute_result"
    }
   ],
   "source": [
    "os.listdir('/Users/richardandrews/richard_folder/')"
   ]
  },
  {
   "cell_type": "code",
   "execution_count": 17,
   "metadata": {},
   "outputs": [
    {
     "data": {
      "text/plain": [
       "'/Users/richardandrews/richard_folder/Richard_Data/Code/Sandbox/python/python_lessons/learn_python/test'"
      ]
     },
     "execution_count": 17,
     "metadata": {},
     "output_type": "execute_result"
    }
   ],
   "source": [
    "shutil.move('/Users/richardandrews/richard_folder/test', os.getcwd())"
   ]
  },
  {
   "cell_type": "code",
   "execution_count": 18,
   "metadata": {},
   "outputs": [
    {
     "data": {
      "text/plain": [
       "['cicada-image.jpg',\n",
       " 'scraping',\n",
       " 'OBJECT_ORIENTED_PROGRAMING.ipynb',\n",
       " 'web_scraping_with_request_and_beautiful_soup.ipynb',\n",
       " 'DataTypes.ipynb',\n",
       " 'scope_and_nested_statements.ipynb',\n",
       " '.DS_Store',\n",
       " 'lambda_expressions_map_filter.ipynb',\n",
       " 'Working with files.ipynb',\n",
       " 'test',\n",
       " 'index.py',\n",
       " 'control_flow_and_interators.ipynb',\n",
       " 'unzip_me_for_instructions',\n",
       " 'practice.txt',\n",
       " 'modules_packages.ipynb',\n",
       " 'Lists.ipynb',\n",
       " 'Dictionary.ipynb',\n",
       " 'Tuples.ipynb',\n",
       " 'list_comprehension.ipynb',\n",
       " 'functions.ipynb',\n",
       " 'Sets and booleans.ipynb',\n",
       " 'error_handling_debug_date_time.ipynb',\n",
       " 'Regular_Expressions.ipynb',\n",
       " '.ipynb_checkpoints',\n",
       " 'web_scraping_wikipedia.ipynb',\n",
       " 'learn_modules_packages',\n",
       " 'OS_MODULE.ipynb']"
      ]
     },
     "execution_count": 18,
     "metadata": {},
     "output_type": "execute_result"
    }
   ],
   "source": [
    "os.listdir(os.getcwd())"
   ]
  },
  {
   "cell_type": "code",
   "execution_count": 1,
   "metadata": {},
   "outputs": [],
   "source": [
    "######## DELETE FILES\n",
    "# os.unlink(path)  # for files\n",
    "# os.rmdir(path) # for empty folders\n",
    "# shutil.rmtree(path) # for folder and files inside\n"
   ]
  },
  {
   "cell_type": "code",
   "execution_count": 2,
   "metadata": {},
   "outputs": [
    {
     "name": "stdout",
     "output_type": "stream",
     "text": [
      "Requirement already satisfied: send2trash in /anaconda3/lib/python3.6/site-packages (1.4.2)\r\n"
     ]
    }
   ],
   "source": [
    "!pip install send2trash"
   ]
  },
  {
   "cell_type": "code",
   "execution_count": 3,
   "metadata": {},
   "outputs": [],
   "source": [
    "# for send to trash or recycle bin\n",
    "import send2trash\n",
    "\n",
    "send2trash.send2trash('practice.txt')"
   ]
  },
  {
   "cell_type": "code",
   "execution_count": 5,
   "metadata": {},
   "outputs": [],
   "source": [
    "my_path = os.getcwd()"
   ]
  },
  {
   "cell_type": "code",
   "execution_count": 7,
   "metadata": {},
   "outputs": [
    {
     "name": "stdout",
     "output_type": "stream",
     "text": [
      "currently looking at folders\n",
      "/Users/richardandrews/richard_folder/Richard_Data/Code/Sandbox/python/python_lessons/learn_python\n",
      "\n",
      "\n",
      "\n",
      "subfolder\n",
      "scraping\n",
      "\n",
      "\n",
      "subfolder\n",
      "unzip_me_for_instructions\n",
      "\n",
      "\n",
      "subfolder\n",
      ".ipynb_checkpoints\n",
      "\n",
      "\n",
      "subfolder\n",
      "learn_modules_packages\n",
      "\n",
      "\n",
      "currently looking at folders\n",
      "/Users/richardandrews/richard_folder/Richard_Data/Code/Sandbox/python/python_lessons/learn_python/scraping\n",
      "\n",
      "\n",
      "\n",
      "currently looking at folders\n",
      "/Users/richardandrews/richard_folder/Richard_Data/Code/Sandbox/python/python_lessons/learn_python/unzip_me_for_instructions\n",
      "\n",
      "\n",
      "\n",
      "subfolder\n",
      "Three\n",
      "\n",
      "\n",
      "subfolder\n",
      "One\n",
      "\n",
      "\n",
      "subfolder\n",
      "Two\n",
      "\n",
      "\n",
      "subfolder\n",
      ".ipynb_checkpoints\n",
      "\n",
      "\n",
      "subfolder\n",
      "Five\n",
      "\n",
      "\n",
      "subfolder\n",
      "Four\n",
      "\n",
      "\n",
      "currently looking at folders\n",
      "/Users/richardandrews/richard_folder/Richard_Data/Code/Sandbox/python/python_lessons/learn_python/unzip_me_for_instructions/Three\n",
      "\n",
      "\n",
      "\n",
      "currently looking at folders\n",
      "/Users/richardandrews/richard_folder/Richard_Data/Code/Sandbox/python/python_lessons/learn_python/unzip_me_for_instructions/One\n",
      "\n",
      "\n",
      "\n",
      "currently looking at folders\n",
      "/Users/richardandrews/richard_folder/Richard_Data/Code/Sandbox/python/python_lessons/learn_python/unzip_me_for_instructions/Two\n",
      "\n",
      "\n",
      "\n",
      "currently looking at folders\n",
      "/Users/richardandrews/richard_folder/Richard_Data/Code/Sandbox/python/python_lessons/learn_python/unzip_me_for_instructions/.ipynb_checkpoints\n",
      "\n",
      "\n",
      "\n",
      "currently looking at folders\n",
      "/Users/richardandrews/richard_folder/Richard_Data/Code/Sandbox/python/python_lessons/learn_python/unzip_me_for_instructions/Five\n",
      "\n",
      "\n",
      "\n",
      "currently looking at folders\n",
      "/Users/richardandrews/richard_folder/Richard_Data/Code/Sandbox/python/python_lessons/learn_python/unzip_me_for_instructions/Four\n",
      "\n",
      "\n",
      "\n",
      "currently looking at folders\n",
      "/Users/richardandrews/richard_folder/Richard_Data/Code/Sandbox/python/python_lessons/learn_python/.ipynb_checkpoints\n",
      "\n",
      "\n",
      "\n",
      "currently looking at folders\n",
      "/Users/richardandrews/richard_folder/Richard_Data/Code/Sandbox/python/python_lessons/learn_python/learn_modules_packages\n",
      "\n",
      "\n",
      "\n",
      "subfolder\n",
      "__pycache__\n",
      "\n",
      "\n",
      "currently looking at folders\n",
      "/Users/richardandrews/richard_folder/Richard_Data/Code/Sandbox/python/python_lessons/learn_python/learn_modules_packages/__pycache__\n",
      "\n",
      "\n",
      "\n"
     ]
    }
   ],
   "source": [
    "for folders, sub_folders, files in os.walk(my_path):\n",
    "    print('currently looking at folders')\n",
    "    print(folders)\n",
    "    print('\\n\\n')\n",
    "    \n",
    "    for sub_folder in sub_folders:\n",
    "        print('subfolder')\n",
    "        print(sub_folder)\n",
    "        print('\\n')"
   ]
  },
  {
   "cell_type": "code",
   "execution_count": 10,
   "metadata": {},
   "outputs": [],
   "source": [
    "################# ZIP FILES #################\n",
    "\n",
    "f = open('new_file_1.txt', 'w+')\n",
    "f.write('Heres some text in new_file_1')\n",
    "\n",
    "f = open('new_file_2.txt', 'w+')\n",
    "f.write('Heres some text in new_file_2')\n",
    "f.close()"
   ]
  },
  {
   "cell_type": "code",
   "execution_count": 12,
   "metadata": {},
   "outputs": [],
   "source": [
    "import zipfile\n",
    "\n",
    "comp_file = zipfile.ZipFile('compressed_zip', 'w')\n",
    "comp_file.write('new_file_1.txt', compress_type=zipfile.ZIP_DEFLATED)\n",
    "comp_file.write('new_file_2.txt', compress_type=zipfile.ZIP_DEFLATED)\n",
    "comp_file.close()"
   ]
  },
  {
   "cell_type": "code",
   "execution_count": 13,
   "metadata": {},
   "outputs": [],
   "source": [
    "zip_obj = zipfile.ZipFile('compressed_zip', 'r')\n",
    "zip_obj.extractall('extracted_content')\n",
    "zip_obj.close()"
   ]
  },
  {
   "cell_type": "code",
   "execution_count": 14,
   "metadata": {},
   "outputs": [],
   "source": [
    "########### SHUTIL ###########"
   ]
  },
  {
   "cell_type": "code",
   "execution_count": 15,
   "metadata": {},
   "outputs": [
    {
     "data": {
      "text/plain": [
       "'/Users/richardandrews/richard_folder/Richard_Data/Code/Sandbox/python/python_lessons/learn_python/my_new_compressed.tar'"
      ]
     },
     "execution_count": 15,
     "metadata": {},
     "output_type": "execute_result"
    }
   ],
   "source": [
    "import shutil\n",
    "\n",
    "shutil.make_archive('my_new_compressed', 'tar', 'extracted_content')"
   ]
  },
  {
   "cell_type": "code",
   "execution_count": 16,
   "metadata": {},
   "outputs": [],
   "source": [
    "shutil.unpack_archive('my_new_compressed.tar', 'my_new_extracted', 'tar')"
   ]
  },
  {
   "cell_type": "code",
   "execution_count": null,
   "metadata": {},
   "outputs": [],
   "source": []
  }
 ],
 "metadata": {
  "kernelspec": {
   "display_name": "Python 3",
   "language": "python",
   "name": "python3"
  },
  "language_info": {
   "codemirror_mode": {
    "name": "ipython",
    "version": 3
   },
   "file_extension": ".py",
   "mimetype": "text/x-python",
   "name": "python",
   "nbconvert_exporter": "python",
   "pygments_lexer": "ipython3",
   "version": "3.6.4"
  }
 },
 "nbformat": 4,
 "nbformat_minor": 2
}
