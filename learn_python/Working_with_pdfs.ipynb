{
 "cells": [
  {
   "cell_type": "code",
   "execution_count": 1,
   "metadata": {},
   "outputs": [
    {
     "name": "stdout",
     "output_type": "stream",
     "text": [
      "Collecting PyPDF2\n",
      "\u001b[?25l  Downloading https://files.pythonhosted.org/packages/b4/01/68fcc0d43daf4c6bdbc6b33cc3f77bda531c86b174cac56ef0ffdb96faab/PyPDF2-1.26.0.tar.gz (77kB)\n",
      "\u001b[K    100% |████████████████████████████████| 81kB 106kB/s a 0:00:011\n",
      "\u001b[?25hBuilding wheels for collected packages: PyPDF2\n",
      "  Running setup.py bdist_wheel for PyPDF2 ... \u001b[?25ldone\n",
      "\u001b[?25h  Stored in directory: /Users/richardandrews/Library/Caches/pip/wheels/53/84/19/35bc977c8bf5f0c23a8a011aa958acd4da4bbd7a229315c1b7\n",
      "Successfully built PyPDF2\n",
      "Installing collected packages: PyPDF2\n",
      "Successfully installed PyPDF2-1.26.0\n"
     ]
    }
   ],
   "source": [
    "!pip install PyPDF2"
   ]
  },
  {
   "cell_type": "code",
   "execution_count": 9,
   "metadata": {},
   "outputs": [],
   "source": [
    "import os, PyPDF2, shutil"
   ]
  },
  {
   "cell_type": "code",
   "execution_count": 10,
   "metadata": {},
   "outputs": [
    {
     "data": {
      "text/plain": [
       "'/Users/richardandrews/richard_folder/Richard_Data/Code/Sandbox/python/python_lessons/learn_python'"
      ]
     },
     "execution_count": 10,
     "metadata": {},
     "output_type": "execute_result"
    }
   ],
   "source": [
    "os.getcwd()"
   ]
  },
  {
   "cell_type": "code",
   "execution_count": 11,
   "metadata": {},
   "outputs": [
    {
     "data": {
      "text/plain": [
       "'/Users/richardandrews/richard_folder/Richard_Data/Code/Sandbox/python/python_lessons/learn_python/Working_Business_Proposal.pdf'"
      ]
     },
     "execution_count": 11,
     "metadata": {},
     "output_type": "execute_result"
    }
   ],
   "source": [
    "shutil.move('/Users/richardandrews/richard_folder/Richard_Data/Code/Sandbox/python/python_lessons/Python-Narrative-Journey/12-Yellow-Mission-Working-with-CSV-Files/Working_Business_Proposal.pdf', os.getcwd())"
   ]
  },
  {
   "cell_type": "code",
   "execution_count": 13,
   "metadata": {},
   "outputs": [],
   "source": [
    "f = open('Working_Business_Proposal.pdf', 'rb') # read binary"
   ]
  },
  {
   "cell_type": "code",
   "execution_count": 17,
   "metadata": {},
   "outputs": [
    {
     "data": {
      "text/plain": [
       "5"
      ]
     },
     "execution_count": 17,
     "metadata": {},
     "output_type": "execute_result"
    }
   ],
   "source": [
    "pdf_reader = PyPDF2.PdfFileReader(f)\n",
    "pdf_reader.numPages\n"
   ]
  },
  {
   "cell_type": "code",
   "execution_count": 18,
   "metadata": {},
   "outputs": [
    {
     "name": "stdout",
     "output_type": "stream",
     "text": [
      "Business Proposal\n",
      " The Revolution is Coming\n",
      " Leverage agile frameworks to provide a robust synopsis for high level \n",
      "overviews. Iterative approaches to corporate strategy foster collaborative \n",
      "thinking to further the overall value proposition. Organically grow the \n",
      "holistic world view of disruptive innovation via workplace diversity and \n",
      "empowerment. \n",
      "Bring to the table win-win survival strategies to ensure proactive \n",
      "domination. At the end of the day, going forward, a new normal that has \n",
      "evolved from generation X is on the runway heading towards a streamlined \n",
      "cloud solution. User generated content in real-time will have multiple \n",
      "touchpoints for offshoring. \n",
      "Capitalize on low hanging fruit to identify a ballpark value added activity to \n",
      "beta test. Override the digital divide with additional clickthroughs from \n",
      "DevOps. Nanotechnology immersion along the information highway will \n",
      "close the loop on focusing solely on the bottom line. Podcasting operational change management inside of workßows to \n",
      "establish a framework. Taking seamless key performance indicators ofßine \n",
      "to maximise the long tail. Keeping your eye on the ball while performing a \n",
      "deep dive on the start-up mentality to derive convergence on cross-\n",
      "platform integration. \n",
      "Collaboratively administrate empowered markets via plug-and-play \n",
      "networks. Dynamically procrastinate B2C users after installed base \n",
      "beneÞts. Dramatically visualize customer directed convergence without \n",
      "revolutionary ROI. \n",
      "EfÞciently unleash cross-media information without cross-media value. \n",
      "Quickly maximize timely deliverables for real-time schemas. Dramatically \n",
      "maintain clicks-and-mortar solutions without functional solutions. \n",
      "BUSINESS PROPOSAL\n",
      "!1\n"
     ]
    }
   ],
   "source": [
    "page_one = pdf_reader.getPage(0)\n",
    "page_one_text = page_one.extractText()\n",
    "print(page_one_text)"
   ]
  },
  {
   "cell_type": "code",
   "execution_count": 19,
   "metadata": {},
   "outputs": [],
   "source": [
    "f.close()"
   ]
  },
  {
   "cell_type": "code",
   "execution_count": 20,
   "metadata": {},
   "outputs": [],
   "source": [
    "# f = open('new_pdf.pdf', 'wb') # write binary\n",
    "# pdf_writer = PyPDF2.PdfFileWriter()\n",
    "# pdf_writer.addPage()\n",
    "# pdf_output = open('new_pdf.pdf', 'wb') # write binary\n",
    "# pdf_writer.write(pdf_output)"
   ]
  },
  {
   "cell_type": "code",
   "execution_count": null,
   "metadata": {},
   "outputs": [],
   "source": []
  }
 ],
 "metadata": {
  "kernelspec": {
   "display_name": "Python 3",
   "language": "python",
   "name": "python3"
  },
  "language_info": {
   "codemirror_mode": {
    "name": "ipython",
    "version": 3
   },
   "file_extension": ".py",
   "mimetype": "text/x-python",
   "name": "python",
   "nbconvert_exporter": "python",
   "pygments_lexer": "ipython3",
   "version": "3.6.4"
  }
 },
 "nbformat": 4,
 "nbformat_minor": 2
}
