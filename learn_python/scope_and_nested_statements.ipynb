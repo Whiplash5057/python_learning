{
 "cells": [
  {
   "cell_type": "code",
   "execution_count": 1,
   "metadata": {},
   "outputs": [],
   "source": [
    "# LOCAL\n",
    "# ENCLOSED\n",
    "# GLOBAL\n",
    "# BUILT IN"
   ]
  },
  {
   "cell_type": "code",
   "execution_count": 2,
   "metadata": {},
   "outputs": [
    {
     "data": {
      "text/plain": [
       "'local'"
      ]
     },
     "execution_count": 2,
     "metadata": {},
     "output_type": "execute_result"
    }
   ],
   "source": [
    "# LOCAL\n",
    "def local():\n",
    "    x = 'local'\n",
    "    return x\n",
    "local()"
   ]
  },
  {
   "cell_type": "code",
   "execution_count": 3,
   "metadata": {},
   "outputs": [
    {
     "name": "stdout",
     "output_type": "stream",
     "text": [
      "Outside\n",
      "enclosing level\n"
     ]
    }
   ],
   "source": [
    "# ENCLOSING AND GLOBAL\n",
    "x = 'Outside' ### GLOBAL\n",
    "print(x)\n",
    "def enclosing():\n",
    "    x = 'enclosing level'\n",
    "    \n",
    "    def inside_enclosing():\n",
    "        print(x)\n",
    "    inside_enclosing()\n",
    "    \n",
    "enclosing() ### UPPER LEVEL WHILE SEARCHING"
   ]
  },
  {
   "cell_type": "code",
   "execution_count": null,
   "metadata": {},
   "outputs": [],
   "source": []
  }
 ],
 "metadata": {
  "kernelspec": {
   "display_name": "Python 3",
   "language": "python",
   "name": "python3"
  },
  "language_info": {
   "codemirror_mode": {
    "name": "ipython",
    "version": 3
   },
   "file_extension": ".py",
   "mimetype": "text/x-python",
   "name": "python",
   "nbconvert_exporter": "python",
   "pygments_lexer": "ipython3",
   "version": "3.6.4"
  }
 },
 "nbformat": 4,
 "nbformat_minor": 2
}
