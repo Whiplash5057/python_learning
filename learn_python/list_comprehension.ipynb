{
 "cells": [
  {
   "cell_type": "code",
   "execution_count": 2,
   "metadata": {},
   "outputs": [],
   "source": [
    "character = 'something'\n",
    "my_list = [char for char in character]"
   ]
  },
  {
   "cell_type": "code",
   "execution_count": 3,
   "metadata": {},
   "outputs": [
    {
     "name": "stdout",
     "output_type": "stream",
     "text": [
      "['s', 'o', 'm', 'e', 't', 'h', 'i', 'n', 'g']\n"
     ]
    }
   ],
   "source": [
    "print(my_list)"
   ]
  },
  {
   "cell_type": "code",
   "execution_count": 4,
   "metadata": {},
   "outputs": [],
   "source": [
    "my_new_list = [num**2 for num in range(0, 50, 2)]\n"
   ]
  },
  {
   "cell_type": "code",
   "execution_count": 5,
   "metadata": {},
   "outputs": [
    {
     "name": "stdout",
     "output_type": "stream",
     "text": [
      "[0, 4, 16, 36, 64, 100, 144, 196, 256, 324, 400, 484, 576, 676, 784, 900, 1024, 1156, 1296, 1444, 1600, 1764, 1936, 2116, 2304]\n"
     ]
    }
   ],
   "source": [
    "print(my_new_list)"
   ]
  },
  {
   "cell_type": "code",
   "execution_count": 6,
   "metadata": {},
   "outputs": [],
   "source": [
    "my_even_list = [num for num in range(0, 100) if num % 2 == 0 ]"
   ]
  },
  {
   "cell_type": "code",
   "execution_count": 7,
   "metadata": {},
   "outputs": [
    {
     "name": "stdout",
     "output_type": "stream",
     "text": [
      "[0, 2, 4, 6, 8, 10, 12, 14, 16, 18, 20, 22, 24, 26, 28, 30, 32, 34, 36, 38, 40, 42, 44, 46, 48, 50, 52, 54, 56, 58, 60, 62, 64, 66, 68, 70, 72, 74, 76, 78, 80, 82, 84, 86, 88, 90, 92, 94, 96, 98]\n"
     ]
    }
   ],
   "source": [
    "print(my_even_list)"
   ]
  },
  {
   "cell_type": "code",
   "execution_count": 8,
   "metadata": {},
   "outputs": [],
   "source": [
    "my_test_list = [num if num % 2 == 0 else 'not even' for num in range(0, 100)]"
   ]
  },
  {
   "cell_type": "code",
   "execution_count": 9,
   "metadata": {},
   "outputs": [
    {
     "name": "stdout",
     "output_type": "stream",
     "text": [
      "[0, 'not even', 2, 'not even', 4, 'not even', 6, 'not even', 8, 'not even', 10, 'not even', 12, 'not even', 14, 'not even', 16, 'not even', 18, 'not even', 20, 'not even', 22, 'not even', 24, 'not even', 26, 'not even', 28, 'not even', 30, 'not even', 32, 'not even', 34, 'not even', 36, 'not even', 38, 'not even', 40, 'not even', 42, 'not even', 44, 'not even', 46, 'not even', 48, 'not even', 50, 'not even', 52, 'not even', 54, 'not even', 56, 'not even', 58, 'not even', 60, 'not even', 62, 'not even', 64, 'not even', 66, 'not even', 68, 'not even', 70, 'not even', 72, 'not even', 74, 'not even', 76, 'not even', 78, 'not even', 80, 'not even', 82, 'not even', 84, 'not even', 86, 'not even', 88, 'not even', 90, 'not even', 92, 'not even', 94, 'not even', 96, 'not even', 98, 'not even']\n"
     ]
    }
   ],
   "source": [
    "print(my_test_list)"
   ]
  },
  {
   "cell_type": "code",
   "execution_count": null,
   "metadata": {},
   "outputs": [],
   "source": []
  }
 ],
 "metadata": {
  "kernelspec": {
   "display_name": "Python 3",
   "language": "python",
   "name": "python3"
  },
  "language_info": {
   "codemirror_mode": {
    "name": "ipython",
    "version": 3
   },
   "file_extension": ".py",
   "mimetype": "text/x-python",
   "name": "python",
   "nbconvert_exporter": "python",
   "pygments_lexer": "ipython3",
   "version": "3.6.4"
  }
 },
 "nbformat": 4,
 "nbformat_minor": 2
}
