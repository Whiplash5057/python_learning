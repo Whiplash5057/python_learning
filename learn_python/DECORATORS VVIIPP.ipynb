{
 "cells": [
  {
   "cell_type": "code",
   "execution_count": 6,
   "metadata": {},
   "outputs": [
    {
     "name": "stdout",
     "output_type": "stream",
     "text": [
      "Cough Cough...\n",
      "Could you give me a discount on this???\n",
      "Cough Cough...\n"
     ]
    }
   ],
   "source": [
    "def cough_ask(func):\n",
    "    \n",
    "    def func_wrapper():\n",
    "        # code before func\n",
    "        print(\"Cough Cough...\")\n",
    "        func()\n",
    "        # code after func\n",
    "        print(\"Cough Cough...\")\n",
    "    \n",
    "    return func_wrapper\n",
    "\n",
    "\n",
    "@cough_ask\n",
    "def ask_for_discount():\n",
    "    print(\"Could you give me a discount on this???\")\n",
    "    \n",
    "ask_for_discount()"
   ]
  },
  {
   "cell_type": "code",
   "execution_count": 7,
   "metadata": {},
   "outputs": [
    {
     "name": "stdout",
     "output_type": "stream",
     "text": [
      "Cough Cough...\n",
      "Could you give me that ball!!!\n",
      "Cough Cough...\n"
     ]
    }
   ],
   "source": [
    "\n",
    "@cough_ask\n",
    "def ask_for_ball():\n",
    "    print(\"Could you give me that ball!!!\")\n",
    "    \n",
    "ask_for_ball()"
   ]
  },
  {
   "cell_type": "code",
   "execution_count": null,
   "metadata": {},
   "outputs": [],
   "source": []
  }
 ],
 "metadata": {
  "kernelspec": {
   "display_name": "Python 3",
   "language": "python",
   "name": "python3"
  },
  "language_info": {
   "codemirror_mode": {
    "name": "ipython",
    "version": 3
   },
   "file_extension": ".py",
   "mimetype": "text/x-python",
   "name": "python",
   "nbconvert_exporter": "python",
   "pygments_lexer": "ipython3",
   "version": "3.6.4"
  }
 },
 "nbformat": 4,
 "nbformat_minor": 2
}
