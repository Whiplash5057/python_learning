{
 "cells": [
  {
   "cell_type": "code",
   "execution_count": 2,
   "metadata": {},
   "outputs": [],
   "source": [
    "import requests, bs4\n",
    "\n",
    "# res = requests.get('https://www.instagram.com/whiplash5057/')\n",
    "# soup = bs4.BeautifulSoup(res.text, 'lxml')\n",
    "# heading_list = soup.select('body')\n",
    "# print(heading_list[0])\n",
    "# first_script = heading_list[0].select('script')\n",
    "# print(first_script)"
   ]
  },
  {
   "cell_type": "code",
   "execution_count": 9,
   "metadata": {},
   "outputs": [],
   "source": [
    "# for item in heading_list:\n",
    "#     print(item.text)"
   ]
  },
  {
   "cell_type": "code",
   "execution_count": 4,
   "metadata": {},
   "outputs": [
    {
     "name": "stdout",
     "output_type": "stream",
     "text": [
      "http://upload.wikimedia.org/wikipedia/en/thumb/7/7e/Cicada_3301_logo.jpg/220px-Cicada_3301_logo.jpg\n"
     ]
    }
   ],
   "source": [
    "res = requests.get('https://en.wikipedia.org/wiki/Cicada_3301')\n",
    "soup = bs4.BeautifulSoup(res.text, 'lxml')\n",
    "image_info = soup.select('.thumbimage')\n",
    "cicada = image_info[0]\n",
    "\n",
    "image_link = 'http:' + cicada['src']\n",
    "print(image_link)\n",
    "cicada_image = requests.get(image_link, 'lxml')\n",
    "# cicada_image.content\n",
    "f = open('cicada-image.jpg', 'wb')\n",
    "f.write(cicada_image.content)\n",
    "f.close()"
   ]
  },
  {
   "cell_type": "markdown",
   "metadata": {},
   "source": [
    "<img src='cicada-image.jpg' />"
   ]
  },
  {
   "cell_type": "code",
   "execution_count": null,
   "metadata": {},
   "outputs": [],
   "source": []
  }
 ],
 "metadata": {
  "kernelspec": {
   "display_name": "Python 3",
   "language": "python",
   "name": "python3"
  },
  "language_info": {
   "codemirror_mode": {
    "name": "ipython",
    "version": 3
   },
   "file_extension": ".py",
   "mimetype": "text/x-python",
   "name": "python",
   "nbconvert_exporter": "python",
   "pygments_lexer": "ipython3",
   "version": "3.6.4"
  }
 },
 "nbformat": 4,
 "nbformat_minor": 2
}
